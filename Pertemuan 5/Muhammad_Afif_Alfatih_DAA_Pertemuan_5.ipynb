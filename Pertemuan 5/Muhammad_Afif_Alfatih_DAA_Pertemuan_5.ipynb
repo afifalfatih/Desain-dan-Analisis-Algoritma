{
  "nbformat": 4,
  "nbformat_minor": 0,
  "metadata": {
    "colab": {
      "provenance": []
    },
    "kernelspec": {
      "name": "python3",
      "display_name": "Python 3"
    },
    "language_info": {
      "name": "python"
    }
  },
  "cells": [
    {
      "cell_type": "markdown",
      "source": [
        "# **SORTING**"
      ],
      "metadata": {
        "id": "cBfzlr9cZcI-"
      }
    },
    {
      "cell_type": "markdown",
      "source": [
        "# 1. Summation"
      ],
      "metadata": {
        "id": "uAiuD53Ubfzb"
      }
    },
    {
      "cell_type": "markdown",
      "source": [
        "Menghitung total jumlah dari n buah bilangan"
      ],
      "metadata": {
        "id": "4525jvbGcpsC"
      }
    },
    {
      "cell_type": "code",
      "execution_count": null,
      "metadata": {
        "id": "AB3xoTuNKqmk"
      },
      "outputs": [],
      "source": [
        "def maxCrossingSum(arr, l, m, h):\n",
        "    sm = 0\n",
        "    left_sum = -10000\n",
        "\n",
        "    for i in range(m, l - 1, -1):\n",
        "        sm = sm + arr[i]\n",
        "\n",
        "        if (sm > left_sum):\n",
        "            left_sum = sm\n",
        "\n",
        "    sm = 0\n",
        "    right_sum = -10000\n",
        "\n",
        "\n",
        "    for i in range(m + 1, h + 1):\n",
        "        sm = sm + arr[i]\n",
        "\n",
        "        if (sm > right_sum):\n",
        "            right_sum = sm\n",
        "\n",
        "    return max(left_sum + right_sum,  arr[m], left_sum, right_sum)\n",
        "\n",
        "def maxSubArraySum(arr, l, h):\n",
        "    if (l > h):\n",
        "        return -10000\n",
        "\n",
        "    if (l == h):\n",
        "        return arr[l]\n",
        "\n",
        "    m = (l + h) // 2\n",
        "\n",
        "    return max(maxSubArraySum(arr, l, m - 1),\n",
        "               maxSubArraySum(arr, m + 1, h),\n",
        "               maxCrossingSum(arr, l, m, h))"
      ]
    },
    {
      "cell_type": "code",
      "source": [
        "arr = [4, 12, 23, 9, 21, 1, 35, 2, 24]\n",
        "n = len(arr)\n",
        "max_sum = maxSubArraySum(arr, 0, n - 1)\n",
        "print(\"Maximum contiguous sum is\", max_sum)\n",
        "\n",
        "arr = [12, 51, 23, 84, 5, 9]\n",
        "n = len(arr)\n",
        "max_sum = maxSubArraySum(arr, 0, n - 1)\n",
        "print(\"Maximum contiguous sum is\", max_sum)"
      ],
      "metadata": {
        "colab": {
          "base_uri": "https://localhost:8080/"
        },
        "id": "HGtkxanwN4G8",
        "outputId": "7e83e906-84c5-4d4f-84b2-d9ad7c4826f1"
      },
      "execution_count": null,
      "outputs": [
        {
          "output_type": "stream",
          "name": "stdout",
          "text": [
            "Maximum contiguous sum is 131\n",
            "Maximum contiguous sum is 184\n"
          ]
        }
      ]
    },
    {
      "cell_type": "markdown",
      "source": [
        "# 2. MinMaks"
      ],
      "metadata": {
        "id": "DEidagj-bXY8"
      }
    },
    {
      "cell_type": "markdown",
      "source": [
        "Mencari nilai minimum dan maksimum dari suatu array/tabel bilangan"
      ],
      "metadata": {
        "id": "r8cbOsLPc6Op"
      }
    },
    {
      "cell_type": "code",
      "source": [
        "def divideAndConquer_Max(arr, ind, len):\n",
        "    maximum = -1;\n",
        "\n",
        "    if (ind >= len - 2):\n",
        "        if (arr[ind] > arr[ind + 1]):\n",
        "            return arr[ind];\n",
        "        else:\n",
        "            return arr[ind + 1];\n",
        "\n",
        "    maximum = divideAndConquer_Max(arr, ind + 1, len);\n",
        "\n",
        "    if (arr[ind] > maximum):\n",
        "        return arr[ind];\n",
        "    else:\n",
        "        return maximum;\n",
        "\n",
        "def divideAndConquer_Min(arr, ind, len):\n",
        "    minimum = 0;\n",
        "\n",
        "    if (ind >= len - 2):\n",
        "        if (arr[ind] < arr[ind + 1]):\n",
        "            return arr[ind];\n",
        "        else:\n",
        "            return arr[ind + 1];\n",
        "\n",
        "    minimum = divideAndConquer_Min(arr, ind + 1, len);\n",
        "\n",
        "    if (arr[ind] < minimum):\n",
        "        return arr[ind];\n",
        "    else:\n",
        "        return minimum;"
      ],
      "metadata": {
        "id": "-Ld1a3-kTM5x"
      },
      "execution_count": null,
      "outputs": []
    },
    {
      "cell_type": "code",
      "source": [
        "minimum, maximum = 0, -1;\n",
        "arr = [6, 4, 8, 90, 12, 56, 7, 1, 63];\n",
        "\n",
        "maximum = divideAndConquer_Max(arr, 0, 9);\n",
        "minimum = divideAndConquer_Min(arr, 0, 9);\n",
        "\n",
        "print(\"The minimum number in the arrray is: \", minimum);\n",
        "print(\"The maximum number in the array is: \", maximum);"
      ],
      "metadata": {
        "colab": {
          "base_uri": "https://localhost:8080/"
        },
        "id": "9iNxSn8jaGZd",
        "outputId": "d01efb4b-71cf-447e-b29f-99b44d0eb7f3"
      },
      "execution_count": null,
      "outputs": [
        {
          "output_type": "stream",
          "name": "stdout",
          "text": [
            "The minimum number in the arrray is:  1\n",
            "The maximum number in the array is:  90\n"
          ]
        }
      ]
    },
    {
      "cell_type": "markdown",
      "source": [
        "# 3. Merge-Sort"
      ],
      "metadata": {
        "id": "CSETPJtNcMyt"
      }
    },
    {
      "cell_type": "code",
      "source": [
        "def mergeSort(array):\n",
        "  if len(array) > 1:\n",
        "    r = len(array)//2\n",
        "\n",
        "    L = array[:r]\n",
        "    M = array[r:]\n",
        "\n",
        "    mergeSort(L)\n",
        "    mergeSort(M)\n",
        "\n",
        "    i = j = k = 0\n",
        "\n",
        "    while i < len(L) and j < len(M):\n",
        "      if L[i] < M[j]:\n",
        "        array[k] = L[i]\n",
        "        i += 1\n",
        "      else:\n",
        "        array[k] = M[j]\n",
        "        j += 1\n",
        "      k += 1\n",
        "\n",
        "    while i < len(L):\n",
        "      array[k] = L[i]\n",
        "      i += 1\n",
        "      k += 1\n",
        "\n",
        "    while j < len(M):\n",
        "      array[k] = M[j]\n",
        "      j += 1\n",
        "      k += 1"
      ],
      "metadata": {
        "id": "6iQMsJTYXdSb"
      },
      "execution_count": null,
      "outputs": []
    },
    {
      "cell_type": "code",
      "source": [
        "def printList(array):\n",
        "  for i in range(len(array)):\n",
        "    print(array[i], end=\"\")\n",
        "  print()\n",
        "\n",
        "array = [8, 3, 2, 9, 7, 1, 5, 4]\n",
        "\n",
        "mergeSort(array)\n",
        "\n",
        "print(\"Sorted array is: \")\n",
        "printList(array)"
      ],
      "metadata": {
        "colab": {
          "base_uri": "https://localhost:8080/"
        },
        "id": "-EPSkfTXXnTT",
        "outputId": "b413126e-da28-4cec-a3a1-2a4c694fba57"
      },
      "execution_count": null,
      "outputs": [
        {
          "output_type": "stream",
          "name": "stdout",
          "text": [
            "Sorted array is: \n",
            "12345789\n"
          ]
        }
      ]
    },
    {
      "cell_type": "markdown",
      "source": [
        "# 4. Insertion-Sort"
      ],
      "metadata": {
        "id": "BF1pcKlLX4X8"
      }
    },
    {
      "cell_type": "code",
      "source": [
        "def insertion_sort(arr):\n",
        "  for i in range(1, len(arr)):\n",
        "    key = arr[i]\n",
        "    j = i - 1\n",
        "    while j >= 0 and key < arr[j]:\n",
        "      arr[j + 1] = arr[j]\n",
        "      j -= 1\n",
        "    arr[j + 1] = key\n",
        "  return arr\n",
        "\n",
        "arr = [4, 12, 23, 9, 21, 1, 5, 2]\n",
        "print(\"Sorted array is:\", insertion_sort(arr))"
      ],
      "metadata": {
        "colab": {
          "base_uri": "https://localhost:8080/"
        },
        "id": "X2pRvSISYBv8",
        "outputId": "ed0485c6-9587-4997-a773-9dc14ad3d686"
      },
      "execution_count": null,
      "outputs": [
        {
          "output_type": "stream",
          "name": "stdout",
          "text": [
            "Sorted array is: [1, 2, 4, 5, 9, 12, 21, 23]\n"
          ]
        }
      ]
    },
    {
      "cell_type": "markdown",
      "source": [
        "# 5. Quick-Sort"
      ],
      "metadata": {
        "id": "DLbbBkG5YMq8"
      }
    },
    {
      "cell_type": "code",
      "source": [
        "def partition(array, low, high):\n",
        "\n",
        "    pivot = array[high]\n",
        "    i = low - 1\n",
        "    for j in range(low, high):\n",
        "        if array[j] <= pivot:\n",
        "            i += 1\n",
        "            array[i], array[j] = array[j], array[i]\n",
        "    array[i + 1], array[high] = array[high], array[i + 1]\n",
        "    return i + 1\n",
        "\n",
        "def quicksort(array, low, high):\n",
        "\n",
        "    if low < high:\n",
        "        pi = partition(array, low, high)\n",
        "        quicksort(array, low, pi - 1)\n",
        "        quicksort(array, pi + 1, high)\n",
        "\n",
        "array = [1, 7, 4, 1, 10, 9, -2]\n",
        "n = len(array)\n",
        "quicksort(array, 0, n - 1)\n",
        "print(\"Sorted array:\", array)"
      ],
      "metadata": {
        "colab": {
          "base_uri": "https://localhost:8080/"
        },
        "id": "JAe-nSvSZOpL",
        "outputId": "607256fb-a24f-4a41-bd13-ff77868de02a"
      },
      "execution_count": null,
      "outputs": [
        {
          "output_type": "stream",
          "name": "stdout",
          "text": [
            "Sorted array: [-2, 1, 1, 4, 7, 9, 10]\n"
          ]
        }
      ]
    },
    {
      "cell_type": "markdown",
      "source": [
        "# **IMPLEMENTASI ALGORITMA**"
      ],
      "metadata": {
        "id": "FS1xOZm5aAxj"
      }
    },
    {
      "cell_type": "markdown",
      "source": [
        "# 1. Inversi dalam Array"
      ],
      "metadata": {
        "id": "OHW16-i6auO_"
      }
    },
    {
      "cell_type": "markdown",
      "source": [
        "Menghitung berapa banyak perubahan yang harus dilakukan untuk mengubah array menjadi bentuk yang urut"
      ],
      "metadata": {
        "id": "ZgCfJatqdvbM"
      }
    },
    {
      "cell_type": "code",
      "source": [
        "def countInversion(arr):\n",
        "    result = 0\n",
        "\n",
        "    for i in range(len(arr)):\n",
        "        for j in range(i+1, len(arr)):\n",
        "            if arr[i] > arr[j]:\n",
        "                result += 1\n",
        "\n",
        "    return result\n",
        "\n",
        "arr = [21, 70, 36, 14, 25]\n",
        "\n",
        "result = countInversion(arr)\n",
        "print(result)"
      ],
      "metadata": {
        "colab": {
          "base_uri": "https://localhost:8080/"
        },
        "id": "Cnf653w_oJ0m",
        "outputId": "ce7cad0d-1903-42c5-b479-6f074be6fd7c"
      },
      "execution_count": null,
      "outputs": [
        {
          "output_type": "stream",
          "name": "stdout",
          "text": [
            "6\n"
          ]
        }
      ]
    },
    {
      "cell_type": "code",
      "source": [
        "def countInversion(arr):\n",
        "    icount = 0\n",
        "\n",
        "    if len(arr) <= 1:\n",
        "        return icount\n",
        "\n",
        "    mid = len(arr) // 2\n",
        "    left = arr[:mid]\n",
        "    right = arr[mid:]\n",
        "\n",
        "    icount += countInversion(left)\n",
        "    icount += countInversion(right)\n",
        "\n",
        "    i = j = k = 0\n",
        "\n",
        "    while i < len(left) and j < len(right):\n",
        "        if left[i] < right[j]:\n",
        "            arr[k] = left[i]\n",
        "            i += 1\n",
        "\n",
        "        else:\n",
        "            arr[k] = right[j]\n",
        "            j += 1\n",
        "            icount += (mid-i)\n",
        "\n",
        "        k += 1\n",
        "    while i < len(left):\n",
        "        arr[k] = left[i]\n",
        "        i += 1\n",
        "        k += 1\n",
        "\n",
        "    while j < len(right):\n",
        "        arr[k] = right[j]\n",
        "        j += 1\n",
        "        k += 1\n",
        "\n",
        "    return icount"
      ],
      "metadata": {
        "id": "Rb0GT6-8oKmG"
      },
      "execution_count": null,
      "outputs": []
    },
    {
      "cell_type": "code",
      "source": [
        "arr=[1,20,6,4,5]\n",
        "result = countInversion(arr)\n",
        "print(result)"
      ],
      "metadata": {
        "colab": {
          "base_uri": "https://localhost:8080/"
        },
        "id": "Xqm4nPXyVh40",
        "outputId": "7bb93aab-7f03-4e44-e6b4-749870aec8dd"
      },
      "execution_count": null,
      "outputs": [
        {
          "output_type": "stream",
          "name": "stdout",
          "text": [
            "5\n"
          ]
        }
      ]
    },
    {
      "cell_type": "markdown",
      "source": [
        "# 2. Maximum SubArray Sum"
      ],
      "metadata": {
        "id": "slYple2moLI6"
      }
    },
    {
      "cell_type": "markdown",
      "source": [
        "Mencari hasil penjumlahan yang terbesar dari suatu array yang isinya negatif dan positif"
      ],
      "metadata": {
        "id": "wjYFC7kwZB_0"
      }
    },
    {
      "cell_type": "code",
      "source": [
        "def maxSubSum(arr):\n",
        "    max_so_far = 0\n",
        "    max_ending_here = 0\n",
        "\n",
        "    for i in range(len(arr)):\n",
        "        max_ending_here += arr[i]\n",
        "\n",
        "        if max_ending_here > max_so_far:\n",
        "            max_so_far = max_ending_here\n",
        "\n",
        "        if max_ending_here < 0:\n",
        "            max_ending_here = 0\n",
        "\n",
        "    return max_so_far"
      ],
      "metadata": {
        "id": "WY6VYrYYV4OL"
      },
      "execution_count": null,
      "outputs": []
    },
    {
      "cell_type": "code",
      "source": [
        "arr = [-2, -5, 6, -2, -3, 1, 5, -6]\n",
        "result = maxSubSum(arr)\n",
        "print(result)"
      ],
      "metadata": {
        "colab": {
          "base_uri": "https://localhost:8080/"
        },
        "id": "Q1JXaqLxWFRo",
        "outputId": "f1b61c07-ab37-4af4-8194-a29b0970e824"
      },
      "execution_count": null,
      "outputs": [
        {
          "output_type": "stream",
          "name": "stdout",
          "text": [
            "7\n"
          ]
        }
      ]
    },
    {
      "cell_type": "code",
      "source": [
        "def maxCrossingSum(arr, low, mid, high):\n",
        "    result = 0\n",
        "    leftSum = float('-infinity')\n",
        "\n",
        "    for i in range(mid, low-1, -1):\n",
        "        result += arr[i]\n",
        "        if result > leftSum:\n",
        "            leftSum = result\n",
        "\n",
        "    result = 0\n",
        "    rightSum = float('-infinity')\n",
        "\n",
        "    for i in range(mid+1, high+1):\n",
        "        result += arr[i]\n",
        "        if result > rightSum:\n",
        "            rightSum = result\n",
        "\n",
        "    return leftSum + rightSum\n",
        "\n",
        "def maxSum(arr, low, high):\n",
        "    if low == high:\n",
        "        return arr[low]\n",
        "\n",
        "    mid = (low + high) // 2\n",
        "\n",
        "    return max(maxSum(arr, low, mid), maxSum(arr, mid+1, high), maxCrossingSum(arr, low, mid, high))"
      ],
      "metadata": {
        "id": "NTsp7cFXWOrR"
      },
      "execution_count": null,
      "outputs": []
    },
    {
      "cell_type": "code",
      "source": [
        "arr = [-2, -5, 6, -2, -3, 1, 5, -6]\n",
        "result = maxSum(arr, 0, len(arr)-1)\n",
        "print(result)"
      ],
      "metadata": {
        "colab": {
          "base_uri": "https://localhost:8080/"
        },
        "id": "0rRnxMPiWPpc",
        "outputId": "8d4d3da1-899f-4bd7-adca-5e8f723483e6"
      },
      "execution_count": null,
      "outputs": [
        {
          "output_type": "stream",
          "name": "stdout",
          "text": [
            "7\n"
          ]
        }
      ]
    },
    {
      "cell_type": "markdown",
      "source": [
        "# 3. Longest Common Prefix"
      ],
      "metadata": {
        "id": "ucWT5SKpW0UT"
      }
    },
    {
      "cell_type": "markdown",
      "source": [
        "Mencari potongan suku kata (prefix) yang sama dan terpanjang"
      ],
      "metadata": {
        "id": "b-DakTonZOcM"
      }
    },
    {
      "cell_type": "code",
      "source": [
        "def longestCommonPrefix(a):\n",
        "    size = len(a)\n",
        "\n",
        "    if (size == 0):\n",
        "        return\n",
        "\n",
        "    if (size == 1):\n",
        "        return a[0]\n",
        "\n",
        "    a.sort()\n",
        "\n",
        "    end = min(len(a[0]), len(a[size - 1]))\n",
        "\n",
        "    i = 0\n",
        "    while (i < end and\n",
        "           a[0][i] == a[size - 1][i]):\n",
        "        i += 1\n",
        "\n",
        "    pre = a[0][:i]\n",
        "\n",
        "    return pre"
      ],
      "metadata": {
        "id": "5rlsbpGdW4VO"
      },
      "execution_count": null,
      "outputs": []
    },
    {
      "cell_type": "code",
      "source": [
        "arr = [\"geeksforgeeks\", \"geeks\", \"geek\", \"geezer\"]\n",
        "result = longestCommonPrefix(arr)\n",
        "print(result)"
      ],
      "metadata": {
        "colab": {
          "base_uri": "https://localhost:8080/"
        },
        "id": "fb4kQFHDXFdV",
        "outputId": "e3b9824a-7251-4df6-dc60-af3c00c84471"
      },
      "execution_count": null,
      "outputs": [
        {
          "output_type": "stream",
          "name": "stdout",
          "text": [
            "gee\n"
          ]
        }
      ]
    },
    {
      "cell_type": "code",
      "source": [
        "arr = [\"apple\", \"ape\", \"april\"]\n",
        "result = longestCommonPrefix(arr)\n",
        "print(result)"
      ],
      "metadata": {
        "colab": {
          "base_uri": "https://localhost:8080/"
        },
        "id": "DlPh-wf2XHuZ",
        "outputId": "855e7e43-34cc-44a0-f4d4-d36da02bc9d9"
      },
      "execution_count": null,
      "outputs": [
        {
          "output_type": "stream",
          "name": "stdout",
          "text": [
            "ap\n"
          ]
        }
      ]
    },
    {
      "cell_type": "markdown",
      "source": [
        "# 4. Median Dua Array Urut Sama Ukuran"
      ],
      "metadata": {
        "id": "8LeSOnSfXSmR"
      }
    },
    {
      "cell_type": "markdown",
      "source": [
        "Mencari nilai tengah dari dua array yang berurutan nilainya, dan ukurannya sama"
      ],
      "metadata": {
        "id": "6pPXB-4HZq4d"
      }
    },
    {
      "cell_type": "code",
      "source": [
        "def medianOfArray(arr1, arr2, n):\n",
        "    m1 = -1\n",
        "    m2 = -1\n",
        "    count = 0\n",
        "    i = j = 0\n",
        "\n",
        "    while count < n+1:\n",
        "        count += 1\n",
        "\n",
        "        if i == n:\n",
        "\n",
        "            m2 = arr2[0]\n",
        "            break\n",
        "\n",
        "        if arr1[i] < arr2[j]:\n",
        "            m1 = m2\n",
        "            m2 = arr1[i]\n",
        "            i += 1\n",
        "        else:\n",
        "            m1 = m2\n",
        "            m2 = arr2[j]\n",
        "            j += 1\n",
        "\n",
        "    return (m1 + m2) // 2"
      ],
      "metadata": {
        "id": "bcaXO3plXZKA"
      },
      "execution_count": null,
      "outputs": []
    },
    {
      "cell_type": "code",
      "source": [
        "arr1 = [1, 12, 15, 26, 38]\n",
        "arr2 = [2, 13, 17, 30, 45]\n",
        "\n",
        "print(medianOfArray(arr1, arr2, len(arr1)))"
      ],
      "metadata": {
        "colab": {
          "base_uri": "https://localhost:8080/"
        },
        "id": "f5BsWwOwXiTV",
        "outputId": "c78dc5ef-46c8-4064-8557-8e0c117f99e5"
      },
      "execution_count": null,
      "outputs": [
        {
          "output_type": "stream",
          "name": "stdout",
          "text": [
            "16\n"
          ]
        }
      ]
    },
    {
      "cell_type": "markdown",
      "source": [
        "# 5. Median Dua Array Urut Berbeda Ukuran"
      ],
      "metadata": {
        "id": "MFbdjJjmXoNl"
      }
    },
    {
      "cell_type": "markdown",
      "source": [
        "Mencari nilai tengah array yang berurutan, namun ukurannya berbeda"
      ],
      "metadata": {
        "id": "s-I1MMUUZ3hl"
      }
    },
    {
      "cell_type": "code",
      "source": [
        "def Solution(arr):\n",
        "    n = len(arr)\n",
        "\n",
        "    if n % 2 == 0:\n",
        "        z = n // 2\n",
        "        e = arr[z]\n",
        "        q = arr[z - 1]\n",
        "        ans = (e + q) / 2\n",
        "        return ans\n",
        "\n",
        "    else:\n",
        "        z = n // 2\n",
        "        ans = arr[z]\n",
        "        return ans"
      ],
      "metadata": {
        "id": "7gxv9xkLX_Uo"
      },
      "execution_count": null,
      "outputs": []
    },
    {
      "cell_type": "code",
      "source": [
        "arr1 = [-5, 3, 6, 12, 15]\n",
        "arr2 = [-12, -10, -6, -3, 4, 10]\n",
        "\n",
        "arr3 = arr1 + arr2\n",
        "\n",
        "arr3.sort()\n",
        "\n",
        "print(\"Median =\", Solution(arr3))"
      ],
      "metadata": {
        "colab": {
          "base_uri": "https://localhost:8080/"
        },
        "id": "P6MAA-jYYFIl",
        "outputId": "a38188c3-331b-425c-fed6-26e8f242f70d"
      },
      "execution_count": null,
      "outputs": [
        {
          "output_type": "stream",
          "name": "stdout",
          "text": [
            "Median = 3\n"
          ]
        }
      ]
    },
    {
      "cell_type": "markdown",
      "source": [
        "# 6. Elemen Terbesar dari Array dan Lebih Kecil dari Angka"
      ],
      "metadata": {
        "id": "dytLuCJrYOzd"
      }
    },
    {
      "cell_type": "code",
      "source": [
        "def floorSorted(arr, low, high, x):\n",
        "    if low > high:\n",
        "        return -1\n",
        "\n",
        "    if arr[low] > x:\n",
        "        return -1\n",
        "\n",
        "    if arr[high] <= x:\n",
        "        return arr[high]\n",
        "\n",
        "    mid = (low + high) // 2\n",
        "\n",
        "    if arr[mid] == x:\n",
        "        return arr[mid]\n",
        "\n",
        "    if mid > 0 and x >= arr[mid - 1] and arr[mid] > x:\n",
        "        return arr[mid - 1]\n",
        "\n",
        "    if mid < high and x < arr[mid + 1] and x >= arr[mid]:\n",
        "        return arr[mid]\n",
        "\n",
        "    if x > arr[mid]:\n",
        "        return floorSorted(arr, mid + 1, high, x)\n",
        "\n",
        "    else:\n",
        "        return floorSorted(arr, low, mid - 1, x)"
      ],
      "metadata": {
        "id": "h6C1qpFBpdVw"
      },
      "execution_count": null,
      "outputs": []
    },
    {
      "cell_type": "code",
      "source": [
        "arr = [1, 2, 8, 10, 12, 14, 19]\n",
        "\n",
        "x = 5\n",
        "\n",
        "print(floorSorted(arr, 0, len(arr) - 1, x))"
      ],
      "metadata": {
        "colab": {
          "base_uri": "https://localhost:8080/"
        },
        "id": "iNwBGO-zphvI",
        "outputId": "c024a5fe-cd86-4859-8980-6c0dfec16a85"
      },
      "execution_count": null,
      "outputs": [
        {
          "output_type": "stream",
          "name": "stdout",
          "text": [
            "2\n"
          ]
        }
      ]
    },
    {
      "cell_type": "markdown",
      "source": [
        "# 7. Nilai Terdekat"
      ],
      "metadata": {
        "id": "S2mTJp-Rp1W6"
      }
    },
    {
      "cell_type": "markdown",
      "source": [
        "Mencari nilai terdekat suatu angka dalam suatu array"
      ],
      "metadata": {
        "id": "9SAVmau8aJdf"
      }
    },
    {
      "cell_type": "code",
      "source": [
        "def closestNumber(arr, low, high, x):\n",
        "    if low > high:\n",
        "        return -1\n",
        "\n",
        "    if arr[high] <= x:\n",
        "        return arr[high]\n",
        "\n",
        "    if arr[low] >= x:\n",
        "        return arr[low]\n",
        "\n",
        "    mid = (low + high) // 2\n",
        "\n",
        "    if arr[mid] == x:\n",
        "        return arr[mid]\n",
        "\n",
        "    abs_mid = abs(arr[mid]\n",
        " - x)\n",
        "\n",
        "    if mid > 0:\n",
        "        abs_left = abs(arr[mid - 1] - x)\n",
        "\n",
        "        if abs_left < abs_mid:\n",
        "            return closestNumber(arr, low, mid - 1, x)\n",
        "\n",
        "    if mid < high:\n",
        "        abs_right = abs(arr[mid + 1] - x)\n",
        "\n",
        "        if abs_right < abs_mid:\n",
        "            return closestNumber(arr, mid + 1, high, x)\n",
        "\n",
        "    return arr[mid]"
      ],
      "metadata": {
        "id": "bxxdU8jqp6D-"
      },
      "execution_count": null,
      "outputs": []
    },
    {
      "cell_type": "code",
      "source": [
        "arr = [2, 5, 6, 7, 8, 8, 9]\n",
        "x = 9\n",
        "print(closestNumber(arr, 0, len(arr)-1, x))"
      ],
      "metadata": {
        "colab": {
          "base_uri": "https://localhost:8080/"
        },
        "id": "2PpTySc4p-0X",
        "outputId": "f9488cb1-ee06-49f5-b98a-b522553eb359"
      },
      "execution_count": null,
      "outputs": [
        {
          "output_type": "stream",
          "name": "stdout",
          "text": [
            "9\n"
          ]
        }
      ]
    },
    {
      "cell_type": "markdown",
      "source": [
        "# 8. Fixed Point"
      ],
      "metadata": {
        "id": "1vm32ha7qBYe"
      }
    },
    {
      "cell_type": "markdown",
      "source": [
        "Mencari nilai fixed point, yaitu suatu bilangan dalam array yang nilainya sama dengan urutannya dalam array"
      ],
      "metadata": {
        "id": "AjbAEs4SaOjJ"
      }
    },
    {
      "cell_type": "code",
      "source": [
        "def fixedPoint(arr, low, high):\n",
        "    if low > high:\n",
        "        return -1\n",
        "\n",
        "    if arr[high] == high:\n",
        "        return arr[high]\n",
        "\n",
        "    if arr[low] == low:\n",
        "        return arr[low]\n",
        "\n",
        "    mid = (low + high) // 2\n",
        "\n",
        "    if arr[mid] == mid:\n",
        "        return arr[mid]\n",
        "\n",
        "    if mid > arr[mid]:\n",
        "        return fixedPoint(arr, mid + 1, high)\n",
        "\n",
        "    else:\n",
        "        return fixedPoint(arr, low, mid - 1)"
      ],
      "metadata": {
        "id": "QJM_vpOKqE68"
      },
      "execution_count": null,
      "outputs": []
    },
    {
      "cell_type": "code",
      "source": [
        "arr = [9, 1, 4, 5, 2]\n",
        "print(fixedPoint(arr, 0, len(arr)-1))"
      ],
      "metadata": {
        "colab": {
          "base_uri": "https://localhost:8080/"
        },
        "id": "S6XMeDHYqH1M",
        "outputId": "4db4c051-4109-4992-864d-08f674b2748b"
      },
      "execution_count": null,
      "outputs": [
        {
          "output_type": "stream",
          "name": "stdout",
          "text": [
            "1\n"
          ]
        }
      ]
    }
  ]
}