{
  "nbformat": 4,
  "nbformat_minor": 0,
  "metadata": {
    "colab": {
      "provenance": []
    },
    "kernelspec": {
      "name": "python3",
      "display_name": "Python 3"
    },
    "language_info": {
      "name": "python"
    }
  },
  "cells": [
    {
      "cell_type": "markdown",
      "source": [
        "# Mentotalkan bilangan pada dua array"
      ],
      "metadata": {
        "id": "xL39g5qDKUNf"
      }
    },
    {
      "cell_type": "code",
      "source": [
        "import numpy as np"
      ],
      "metadata": {
        "id": "YuKdoN6wEKHG"
      },
      "execution_count": null,
      "outputs": []
    },
    {
      "cell_type": "code",
      "execution_count": null,
      "metadata": {
        "colab": {
          "base_uri": "https://localhost:8080/"
        },
        "id": "BsXedByv8cR3",
        "outputId": "d18624e9-86ee-435c-ae89-afe7a42f7b3d"
      },
      "outputs": [
        {
          "output_type": "stream",
          "name": "stdout",
          "text": [
            "21\n"
          ]
        }
      ],
      "source": [
        "a = [1,2,3]\n",
        "b = [4,5,6]\n",
        "hasil = a + b\n",
        "print(sum(hasil))"
      ]
    },
    {
      "cell_type": "markdown",
      "source": [
        "# Memunculkan bilangan ke n dari suatu array"
      ],
      "metadata": {
        "id": "jFL73e3q4dhU"
      }
    },
    {
      "cell_type": "code",
      "source": [
        "nilai_siswa = np.array([85,55,40,90])\n",
        "print(nilai_siswa[3])"
      ],
      "metadata": {
        "colab": {
          "base_uri": "https://localhost:8080/"
        },
        "id": "dvV-xRl3EiuQ",
        "outputId": "eaa731c6-e9fc-4628-f977-a7029eb3a0c3"
      },
      "execution_count": null,
      "outputs": [
        {
          "output_type": "stream",
          "name": "stdout",
          "text": [
            "90\n"
          ]
        }
      ]
    },
    {
      "cell_type": "markdown",
      "source": [
        "# Input dan Print Data"
      ],
      "metadata": {
        "id": "MfiqHgF899mF"
      }
    },
    {
      "cell_type": "code",
      "source": [
        "nama = input(\"Masukkan nama kamu: \")\n",
        "nim = input(\"Masukkan nim kamu: \")\n",
        "\n",
        "\n",
        "print(\"\\nHallo, World!\")\n",
        "print(\"Nama saya \" + nama)\n",
        "print(\"NIM saya \" + nim)"
      ],
      "metadata": {
        "colab": {
          "base_uri": "https://localhost:8080/"
        },
        "id": "KTHhxJoOF83S",
        "outputId": "8db14904-5669-4c41-d0d1-1691370fcc45"
      },
      "execution_count": null,
      "outputs": [
        {
          "output_type": "stream",
          "name": "stdout",
          "text": [
            "Masukkan nama kamu: kafka\n",
            "Masukkan nim kamu: 2934\n",
            "\n",
            "\n",
            "Hallo, World!\n",
            "Nama saya kafka\n",
            "NIM saya 2934\n"
          ]
        }
      ]
    },
    {
      "cell_type": "markdown",
      "source": [
        "# Mencari size(jumlah) dari suatu array"
      ],
      "metadata": {
        "id": "Ar49gXBD-MLp"
      }
    },
    {
      "cell_type": "code",
      "source": [
        "def getlast2(list):\n",
        "    size = len(list)\n",
        "    print(f\"Size: {size}\")\n",
        "    return list[size-1]"
      ],
      "metadata": {
        "id": "WIZFqTzpK3eX"
      },
      "execution_count": null,
      "outputs": []
    },
    {
      "cell_type": "code",
      "source": [
        "getlast2([1,2,3,4,5,6])"
      ],
      "metadata": {
        "colab": {
          "base_uri": "https://localhost:8080/"
        },
        "id": "eOEiZUMpM83X",
        "outputId": "ffe01784-9890-4f1b-b4a2-af56e3eaed01"
      },
      "execution_count": null,
      "outputs": [
        {
          "output_type": "stream",
          "name": "stdout",
          "text": [
            "Size: 6\n"
          ]
        },
        {
          "output_type": "execute_result",
          "data": {
            "text/plain": [
              "6"
            ]
          },
          "metadata": {},
          "execution_count": 40
        }
      ]
    },
    {
      "cell_type": "markdown",
      "source": [
        "# Menjumlahkan dua himpunan angka"
      ],
      "metadata": {
        "id": "6WHVUmJON2Dc"
      }
    },
    {
      "cell_type": "code",
      "source": [
        "def totallist(list1, list2):\n",
        "  total = 0\n",
        "  for i in list1:\n",
        "    total += i\n",
        "  for i in list2:\n",
        "    total += i\n",
        "    return total"
      ],
      "metadata": {
        "id": "VwCL-1-4PJXi"
      },
      "execution_count": 12,
      "outputs": []
    },
    {
      "cell_type": "code",
      "source": [
        "a = [1,2,3]\n",
        "b = [4,5,6]"
      ],
      "metadata": {
        "id": "tPt4ceibMQve"
      },
      "execution_count": 13,
      "outputs": []
    },
    {
      "cell_type": "code",
      "source": [
        "result = totallist(a, b)\n",
        "print(result)"
      ],
      "metadata": {
        "colab": {
          "base_uri": "https://localhost:8080/"
        },
        "id": "6oOFmnx6P8lv",
        "outputId": "018c9a34-5559-40c6-d8e8-c4ffb50acb94"
      },
      "execution_count": 14,
      "outputs": [
        {
          "output_type": "stream",
          "name": "stdout",
          "text": [
            "10\n"
          ]
        }
      ]
    },
    {
      "cell_type": "markdown",
      "source": [
        "# Mengkalikan semua bilangan di dalam suatu himpunan"
      ],
      "metadata": {
        "id": "A8dYYYgK61oG"
      }
    },
    {
      "cell_type": "code",
      "source": [
        "def getKali(myList):\n",
        "    perkalian = 1\n",
        "    for item in myList:\n",
        "      perkalian *= item\n",
        "    return perkalian\n"
      ],
      "metadata": {
        "id": "q6F3aE98PK9R"
      },
      "execution_count": null,
      "outputs": []
    },
    {
      "cell_type": "code",
      "source": [
        "getKali([1,3,5,7])"
      ],
      "metadata": {
        "colab": {
          "base_uri": "https://localhost:8080/"
        },
        "id": "ltu5ZRO7UIi3",
        "outputId": "72b4eeb2-b243-4e35-c251-073b09709cd2"
      },
      "execution_count": null,
      "outputs": [
        {
          "output_type": "execute_result",
          "data": {
            "text/plain": [
              "105"
            ]
          },
          "metadata": {},
          "execution_count": 49
        }
      ]
    },
    {
      "cell_type": "markdown",
      "source": [
        "# Membagi semua bilangan di dalam suatu himpunan"
      ],
      "metadata": {
        "id": "8V6Xm8DZ7SRI"
      }
    },
    {
      "cell_type": "code",
      "source": [
        "def getBagi(myList):\n",
        "    pembagian = myList[0]\n",
        "    for item in myList[1:]:\n",
        "        pembagian /= item\n",
        "    return pembagian"
      ],
      "metadata": {
        "id": "Qtji4LNdU-Ky"
      },
      "execution_count": null,
      "outputs": []
    },
    {
      "cell_type": "code",
      "source": [
        "getBagi([60, 2, 3, 5])"
      ],
      "metadata": {
        "colab": {
          "base_uri": "https://localhost:8080/"
        },
        "id": "FuX1AV_tVLR1",
        "outputId": "d02ae89f-fbc8-4cb7-c101-b4843b504d32"
      },
      "execution_count": null,
      "outputs": [
        {
          "output_type": "execute_result",
          "data": {
            "text/plain": [
              "2.0"
            ]
          },
          "metadata": {},
          "execution_count": 4
        }
      ]
    },
    {
      "cell_type": "markdown",
      "source": [
        "# Membagi dua himpunan angka"
      ],
      "metadata": {
        "id": "jFy-JYhQ7YjS"
      }
    },
    {
      "cell_type": "code",
      "source": [
        "def getBagi(myList):\n",
        "    pembagian = myList[0]\n",
        "    for item in myList[1:]:\n",
        "        pembagian /= item\n",
        "    return pembagian\n",
        "\n",
        "def Hitung(list1, list2):\n",
        "    result1 = getBagi(list1)\n",
        "    result2 = getBagi(list2)\n",
        "    final = result1 / result2\n",
        "    return final"
      ],
      "metadata": {
        "id": "1uDVmFA43ZaU"
      },
      "execution_count": null,
      "outputs": []
    },
    {
      "cell_type": "code",
      "source": [
        "list1 = [60, 3, 2]\n",
        "list2 = [5, 1]\n",
        "hasil = Hitung(list1, list2)\n",
        "print(hasil)"
      ],
      "metadata": {
        "colab": {
          "base_uri": "https://localhost:8080/"
        },
        "id": "ABG5rL4ZcEZB",
        "outputId": "e1b745db-d71b-43bc-9358-63e54ec1b972"
      },
      "execution_count": null,
      "outputs": [
        {
          "output_type": "stream",
          "name": "stdout",
          "text": [
            "2.0\n"
          ]
        }
      ]
    },
    {
      "cell_type": "markdown",
      "source": [
        "# Mengurangi dua himpunan angka"
      ],
      "metadata": {
        "id": "EP55Jz1cL_dJ"
      }
    },
    {
      "cell_type": "code",
      "source": [
        "def getKurang(myList):\n",
        "    pengurangan = myList[0]\n",
        "    for item in myList[1:]:\n",
        "        pengurangan -= item\n",
        "    return pengurangan\n",
        "\n",
        "def hitung(list1, list2):\n",
        "    result1 = getKurang(list1)\n",
        "    result2 = getKurang(list2)\n",
        "    final = result1 - result2\n",
        "    return final"
      ],
      "metadata": {
        "id": "QdJ-q_sitqlH"
      },
      "execution_count": null,
      "outputs": []
    },
    {
      "cell_type": "code",
      "source": [
        "list1 = [20, 2, 3]\n",
        "list2 = [5, 1, 1]\n",
        "hasil = hitung(list1, list2)\n",
        "print(hasil)"
      ],
      "metadata": {
        "colab": {
          "base_uri": "https://localhost:8080/"
        },
        "id": "At3wFgBFgqhd",
        "outputId": "00b02cbb-e13f-4849-d850-a34ed5c9c595"
      },
      "execution_count": null,
      "outputs": [
        {
          "output_type": "stream",
          "name": "stdout",
          "text": [
            "12\n"
          ]
        }
      ]
    }
  ]
}