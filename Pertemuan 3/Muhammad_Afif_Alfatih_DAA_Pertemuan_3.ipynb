{
  "nbformat": 4,
  "nbformat_minor": 0,
  "metadata": {
    "colab": {
      "provenance": []
    },
    "kernelspec": {
      "name": "python3",
      "display_name": "Python 3"
    },
    "language_info": {
      "name": "python"
    }
  },
  "cells": [
    {
      "cell_type": "code",
      "execution_count": null,
      "metadata": {
        "colab": {
          "base_uri": "https://localhost:8080/"
        },
        "id": "GZFnK5rw6_CA",
        "outputId": "8797a5b7-2b1d-4467-fba9-e1c2e35142fe"
      },
      "outputs": [
        {
          "output_type": "stream",
          "name": "stdout",
          "text": [
            "['John', 33, 'Toronto', True]\n"
          ]
        }
      ],
      "source": [
        "import numpy as np\n",
        "\n",
        "aList = [ \"John\",33,\"Toronto\",True]\n",
        "print(aList)"
      ]
    },
    {
      "cell_type": "markdown",
      "source": [
        "# Membuat list dengan menambahkan date"
      ],
      "metadata": {
        "id": "ZWgN9cJEZLa4"
      }
    },
    {
      "cell_type": "code",
      "source": [
        "import datetime as dt\n",
        "tanggal = dt.date.today()\n",
        "maha_siswa = [\"Muhammad Afif Alfatih\",\"2023071005\",\"Prodi Informatika\",\"DAA\", str (tanggal), \"Universitas Pembangunan Jaya\"]\n",
        "print(maha_siswa)"
      ],
      "metadata": {
        "colab": {
          "base_uri": "https://localhost:8080/"
        },
        "id": "HtI6ul2d8a11",
        "outputId": "026e5c98-e4e7-4d68-f6d7-3e3e68add182"
      },
      "execution_count": 1,
      "outputs": [
        {
          "output_type": "stream",
          "name": "stdout",
          "text": [
            "['Muhammad Afif Alfatih', '2023071005', 'Prodi Informatika', 'DAA', '2024-10-14', 'Universitas Pembangunan Jaya']\n"
          ]
        }
      ]
    },
    {
      "cell_type": "markdown",
      "source": [
        "# Cetak dengan memanggil urutan ke-n dari list"
      ],
      "metadata": {
        "id": "mkePBlRra2Cq"
      }
    },
    {
      "cell_type": "code",
      "source": [
        "print(\"Nim:\", maha_siswa[1])\n",
        "print(\"Universitas:\", maha_siswa[5])"
      ],
      "metadata": {
        "colab": {
          "base_uri": "https://localhost:8080/"
        },
        "id": "yGEM5poT8dLo",
        "outputId": "6974c5ce-0628-4afe-aa0e-a2ced4763e24"
      },
      "execution_count": null,
      "outputs": [
        {
          "output_type": "stream",
          "name": "stdout",
          "text": [
            "Nim: 2023071005\n",
            "Universitas: Universitas Pembangunan Jaya\n"
          ]
        }
      ]
    },
    {
      "cell_type": "markdown",
      "source": [
        "# List Slicing\n",
        "Mengambil subset dari elemen list dengan menentukan rentang indeks"
      ],
      "metadata": {
        "id": "SFSoWp7OcBCl"
      }
    },
    {
      "cell_type": "code",
      "source": [
        "bin_colors=['Red','Green','Blue','Yellow']\n",
        "bin_colors[2:3]"
      ],
      "metadata": {
        "colab": {
          "base_uri": "https://localhost:8080/"
        },
        "id": "HNwQA32mANVe",
        "outputId": "4831df83-57b7-4855-fe31-79686c35df37"
      },
      "execution_count": null,
      "outputs": [
        {
          "output_type": "execute_result",
          "data": {
            "text/plain": [
              "['Blue']"
            ]
          },
          "metadata": {},
          "execution_count": 33
        }
      ]
    },
    {
      "cell_type": "code",
      "source": [
        "maha_siswa[1:3]"
      ],
      "metadata": {
        "colab": {
          "base_uri": "https://localhost:8080/"
        },
        "id": "DY5MoDUbCj6j",
        "outputId": "5a0ce3ff-c4af-49e7-d420-8ab1664af518"
      },
      "execution_count": null,
      "outputs": [
        {
          "output_type": "execute_result",
          "data": {
            "text/plain": [
              "['2023071005', 'Prodi Informatika']"
            ]
          },
          "metadata": {},
          "execution_count": 38
        }
      ]
    },
    {
      "cell_type": "markdown",
      "source": [
        "# Looping"
      ],
      "metadata": {
        "id": "f9sI1tzxccQK"
      }
    },
    {
      "cell_type": "code",
      "source": [
        "for aColor in bin_colors:\n",
        "  print(aColor+\" Square\")"
      ],
      "metadata": {
        "colab": {
          "base_uri": "https://localhost:8080/"
        },
        "id": "R2A8n69zDEW5",
        "outputId": "1d3496ad-9561-486a-ea2b-6871a3583f9a"
      },
      "execution_count": null,
      "outputs": [
        {
          "output_type": "stream",
          "name": "stdout",
          "text": [
            "Red Square\n",
            "Green Square\n",
            "Blue Square\n",
            "Yellow Square\n"
          ]
        }
      ]
    },
    {
      "cell_type": "code",
      "source": [
        "for mhs in maha_siswa:\n",
        "  print(\"UPJ \"  + mhs)"
      ],
      "metadata": {
        "colab": {
          "base_uri": "https://localhost:8080/"
        },
        "id": "HTBrtV6FI2w_",
        "outputId": "80529088-8d41-4717-9fa7-b6d9a4ef2d8b"
      },
      "execution_count": null,
      "outputs": [
        {
          "output_type": "stream",
          "name": "stdout",
          "text": [
            "UPJ nama\n",
            "UPJ 2023071005\n",
            "UPJ Prodi Informatika\n",
            "UPJ DAA\n",
            "UPJ 2024-09-19\n",
            "UPJ Universitas Pembangunan Jaya\n"
          ]
        }
      ]
    },
    {
      "cell_type": "markdown",
      "source": [
        "# Tuple"
      ],
      "metadata": {
        "id": "Soh0PNxCepoY"
      }
    },
    {
      "cell_type": "code",
      "source": [
        "bin_colors=('Red','Green','Blue','Yellow')\n",
        "bin_colors[1:]"
      ],
      "metadata": {
        "colab": {
          "base_uri": "https://localhost:8080/"
        },
        "id": "vmLX8CrEJmOz",
        "outputId": "2e65410a-5906-4cca-d4fc-f32150581549"
      },
      "execution_count": null,
      "outputs": [
        {
          "output_type": "execute_result",
          "data": {
            "text/plain": [
              "('Green', 'Blue', 'Yellow')"
            ]
          },
          "metadata": {},
          "execution_count": 47
        }
      ]
    },
    {
      "cell_type": "code",
      "source": [
        "tup_upj = ('Universitas','Pembangunan','Jaya')\n",
        "tup_upj[0:]"
      ],
      "metadata": {
        "colab": {
          "base_uri": "https://localhost:8080/"
        },
        "id": "OZIhedeaN8rX",
        "outputId": "05ddfcd9-e37f-4d09-d6f7-93eb30351abd"
      },
      "execution_count": null,
      "outputs": [
        {
          "output_type": "execute_result",
          "data": {
            "text/plain": [
              "('Universitas', 'Pembangunan', 'Jaya')"
            ]
          },
          "metadata": {},
          "execution_count": 50
        }
      ]
    },
    {
      "cell_type": "code",
      "source": [
        "nested_tuple = (100, ('200','400','600'),'300',('400', '800'))\n",
        "nested_tuple[0:1]"
      ],
      "metadata": {
        "colab": {
          "base_uri": "https://localhost:8080/"
        },
        "id": "Wk2Hvg_OOVLH",
        "outputId": "a569772f-86f6-4b4c-e42f-22d4fa88d5bd"
      },
      "execution_count": null,
      "outputs": [
        {
          "output_type": "execute_result",
          "data": {
            "text/plain": [
              "(100,)"
            ]
          },
          "metadata": {},
          "execution_count": 5
        }
      ]
    },
    {
      "cell_type": "markdown",
      "source": [
        "# Dictionary"
      ],
      "metadata": {
        "id": "YvfnBUoyfUY6"
      }
    },
    {
      "cell_type": "code",
      "source": [
        "bin_colors={\n",
        "    \"manual_color\": \"Yellow\",\n",
        "    \"approved_color\": \"Green\",\n",
        "    \"refused_color\": \"Red\"\n",
        "}\n",
        "bin_colors[\"refused_color\"]"
      ],
      "metadata": {
        "colab": {
          "base_uri": "https://localhost:8080/",
          "height": 36
        },
        "id": "Nl98GAyzPrfi",
        "outputId": "5484d656-0d63-41ee-c72e-3c6c9f8dfa42"
      },
      "execution_count": null,
      "outputs": [
        {
          "output_type": "execute_result",
          "data": {
            "text/plain": [
              "'Red'"
            ],
            "application/vnd.google.colaboratory.intrinsic+json": {
              "type": "string"
            }
          },
          "metadata": {},
          "execution_count": 9
        }
      ]
    },
    {
      "cell_type": "code",
      "source": [
        "maha_siswa={\n",
        "    \"nama_mhs\": \"Muhammad Afif Alfatih\",\n",
        "    \"nim_mhs\": \"2023071005\",\n",
        "    \"prodi_mhs\": \"Informatika\",\n",
        "    \"univ_mhs\": \"UPJ\"\n",
        "}\n",
        "print(maha_siswa)"
      ],
      "metadata": {
        "colab": {
          "base_uri": "https://localhost:8080/"
        },
        "id": "8KtTzu6-Q-V0",
        "outputId": "1d1e18f8-9126-43e8-e90b-09551fc95762"
      },
      "execution_count": null,
      "outputs": [
        {
          "output_type": "stream",
          "name": "stdout",
          "text": [
            "{'nama_mhs': 'Muhammad Afif Alfatih', 'nim_mhs': '2023071005', 'prodi_mhs': 'Informatika', 'univ_mhs': 'UPJ'}\n"
          ]
        }
      ]
    },
    {
      "cell_type": "markdown",
      "source": [
        "# Set"
      ],
      "metadata": {
        "id": "aF2qF-L8gAQF"
      }
    },
    {
      "cell_type": "code",
      "source": [
        "yellow = {'rose','blood','leaves','fire hydrant'}\n",
        "red = {'leaves','fire hydrant','dandelions'}\n",
        "print(yellow|red)\n",
        "print(yellow&red)"
      ],
      "metadata": {
        "colab": {
          "base_uri": "https://localhost:8080/"
        },
        "id": "OxzVlDs6TeyW",
        "outputId": "67bd541d-8d18-484a-ab8e-3d69ebb98cb3"
      },
      "execution_count": null,
      "outputs": [
        {
          "output_type": "stream",
          "name": "stdout",
          "text": [
            "{'leaves', 'blood', 'rose', 'dandelions', 'fire hydrant'}\n",
            "{'leaves', 'fire hydrant'}\n"
          ]
        }
      ]
    },
    {
      "cell_type": "markdown",
      "source": [
        "# DataFrame"
      ],
      "metadata": {
        "id": "hEQ-HO1WgRsb"
      }
    },
    {
      "cell_type": "code",
      "source": [
        "import pandas as pd\n",
        "df = pd.DataFrame([\n",
        "    ['1','Informatika','50','30','20'],\n",
        "    ['2','Sistem Informasi','55','30','25'],\n",
        "    ['3','Teknik Sipil','40','30','10']\n",
        "])\n",
        "print(df)"
      ],
      "metadata": {
        "colab": {
          "base_uri": "https://localhost:8080/"
        },
        "id": "UMbFzdXJUhry",
        "outputId": "82424f47-accd-4a58-9f14-8783909c8688"
      },
      "execution_count": null,
      "outputs": [
        {
          "output_type": "stream",
          "name": "stdout",
          "text": [
            "   0                 1   2   3   4\n",
            "0  1       Informatika  50  30  20\n",
            "1  2  Sistem Informasi  55  30  25\n",
            "2  3      Teknik Sipil  40  30  10\n"
          ]
        }
      ]
    },
    {
      "cell_type": "markdown",
      "source": [
        "# Transpose Matrix"
      ],
      "metadata": {
        "id": "dziPMjTfgHD-"
      }
    },
    {
      "cell_type": "code",
      "source": [
        "import numpy as np\n",
        "myMatrix = np.array([[100,200,300], [700,600,500],[900,1000,800]])\n",
        "transpose = np.transpose(myMatrix)\n",
        "print(\"Matriks yang ditranspose: \")\n",
        "print(transpose)"
      ],
      "metadata": {
        "colab": {
          "base_uri": "https://localhost:8080/"
        },
        "id": "9R0VxyAfZ-_w",
        "outputId": "aee5d40e-b561-4d95-a73b-869586d84608"
      },
      "execution_count": null,
      "outputs": [
        {
          "output_type": "stream",
          "name": "stdout",
          "text": [
            "Matriks yang ditranspose: \n",
            "[[ 100  700  900]\n",
            " [ 200  600 1000]\n",
            " [ 300  500  800]]\n"
          ]
        }
      ]
    },
    {
      "cell_type": "code",
      "source": [
        "print(type(myMatrix))"
      ],
      "metadata": {
        "colab": {
          "base_uri": "https://localhost:8080/"
        },
        "id": "I2IFDKwQag9L",
        "outputId": "c06f7b74-14a8-4e6e-fd9a-50260bb0ceb8"
      },
      "execution_count": null,
      "outputs": [
        {
          "output_type": "stream",
          "name": "stdout",
          "text": [
            "<class 'numpy.ndarray'>\n"
          ]
        }
      ]
    }
  ]
}