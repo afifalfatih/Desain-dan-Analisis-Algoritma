{
  "nbformat": 4,
  "nbformat_minor": 0,
  "metadata": {
    "colab": {
      "provenance": []
    },
    "kernelspec": {
      "name": "python3",
      "display_name": "Python 3"
    },
    "language_info": {
      "name": "python"
    }
  },
  "cells": [
    {
      "cell_type": "markdown",
      "source": [
        "# Swap"
      ],
      "metadata": {
        "id": "6IMxAvrcr2Cz"
      }
    },
    {
      "cell_type": "code",
      "execution_count": 3,
      "metadata": {
        "id": "SjH8Bzstrm3k"
      },
      "outputs": [],
      "source": [
        "var1 = 1\n",
        "var2 = 2\n",
        "var3 = 3\n",
        "var1, var2, var3 = var2, var3, var1"
      ]
    },
    {
      "cell_type": "code",
      "source": [
        "print(var1, var2, var3)"
      ],
      "metadata": {
        "colab": {
          "base_uri": "https://localhost:8080/"
        },
        "id": "UDTE0-FwsFku",
        "outputId": "eb6a3fd1-3e5c-4d9b-84e1-4184b5aa0cef"
      },
      "execution_count": 4,
      "outputs": [
        {
          "output_type": "stream",
          "name": "stdout",
          "text": [
            "2 3 1\n"
          ]
        }
      ]
    },
    {
      "cell_type": "markdown",
      "source": [
        "# Bubble-Sort"
      ],
      "metadata": {
        "id": "mP3pef1jsfdo"
      }
    },
    {
      "cell_type": "code",
      "source": [
        "list = [25, 21, 22, 24, 23, 27, 26]"
      ],
      "metadata": {
        "id": "r8GRiYlftMfG"
      },
      "execution_count": 56,
      "outputs": []
    },
    {
      "cell_type": "code",
      "source": [
        "# proses penukaran bubble sort\n",
        "last_element_index = len(list) - 1\n",
        "print(0, list)\n",
        "for idx in range(last_element_index):\n",
        "    if list[idx] > list[idx+1]:\n",
        "        list[idx], list[idx+1] = list[idx+1], list[idx]\n",
        "        print(idx+1, list)"
      ],
      "metadata": {
        "colab": {
          "base_uri": "https://localhost:8080/"
        },
        "id": "lVusCHAetJ71",
        "outputId": "6396d438-21e9-4cdf-9a29-867356e736c4"
      },
      "execution_count": 57,
      "outputs": [
        {
          "output_type": "stream",
          "name": "stdout",
          "text": [
            "0 [25, 21, 22, 24, 23, 27, 26]\n",
            "1 [21, 25, 22, 24, 23, 27, 26]\n",
            "2 [21, 22, 25, 24, 23, 27, 26]\n",
            "3 [21, 22, 24, 25, 23, 27, 26]\n",
            "4 [21, 22, 24, 23, 25, 27, 26]\n",
            "6 [21, 22, 24, 23, 25, 26, 27]\n"
          ]
        }
      ]
    },
    {
      "cell_type": "markdown",
      "source": [
        "# Insertion-Sort"
      ],
      "metadata": {
        "id": "POv-lwDGt3bz"
      }
    },
    {
      "cell_type": "code",
      "source": [
        "def InsertionSort(list):\n",
        "    for i in range(1, len(list)):\n",
        "        j = i-1\n",
        "        next = list[i]\n",
        "        # Compare the current element with next one\n",
        "        while (list[j] > next) and (j >= 0):\n",
        "            list[j+1] = list[j]\n",
        "            j -= 1\n",
        "        list[j+1] = next\n",
        "    return list"
      ],
      "metadata": {
        "id": "X62clTpWzot8"
      },
      "execution_count": 8,
      "outputs": []
    },
    {
      "cell_type": "code",
      "source": [
        "list = [89,12,57,16,25,11,75]\n",
        "InsertionSort(list)\n",
        "print(list)"
      ],
      "metadata": {
        "colab": {
          "base_uri": "https://localhost:8080/"
        },
        "id": "b1JVX3Fuzzgv",
        "outputId": "c82b77f4-7a3a-477c-d5e3-f5493f5a8fae"
      },
      "execution_count": 10,
      "outputs": [
        {
          "output_type": "stream",
          "name": "stdout",
          "text": [
            "[11, 12, 16, 25, 57, 75, 89]\n"
          ]
        }
      ]
    },
    {
      "cell_type": "markdown",
      "source": [
        "# Selection-Sort"
      ],
      "metadata": {
        "id": "FV0ultmQt8Yt"
      }
    },
    {
      "cell_type": "code",
      "source": [
        "def SelectionSort(list):\n",
        "    for fill_slot in range(len(list) - 1, 0, -1):\n",
        "        max_index = 0\n",
        "        for location in range(1, fill_slot + 1):\n",
        "            if list[location] > list[max_index]:\n",
        "                max_index = location\n",
        "        list[fill_slot], list[max_index] = list[max_index], list[fill_slot]\n",
        "    return list"
      ],
      "metadata": {
        "id": "6iBKwHaK1XHW"
      },
      "execution_count": 11,
      "outputs": []
    },
    {
      "cell_type": "code",
      "source": [
        "list = [89,12,27,16,25]\n",
        "SelectionSort(list)\n",
        "print(list)"
      ],
      "metadata": {
        "colab": {
          "base_uri": "https://localhost:8080/"
        },
        "id": "GIcpC0n21ZHA",
        "outputId": "1f7a067c-a049-4220-cc77-5fae4ca63b52"
      },
      "execution_count": 12,
      "outputs": [
        {
          "output_type": "stream",
          "name": "stdout",
          "text": [
            "[12, 16, 25, 27, 89]\n"
          ]
        }
      ]
    },
    {
      "cell_type": "markdown",
      "source": [
        "# Linear Search"
      ],
      "metadata": {
        "id": "Z1EKlBvIuQ3x"
      }
    },
    {
      "cell_type": "code",
      "source": [
        "def LinearSearch(list1, item):\n",
        "    index = 0\n",
        "    found = False\n",
        "\n",
        "    # Match the value with each data element\n",
        "    while index < len(list1) and found is False:\n",
        "        if list1[index] == item:\n",
        "            found = True\n",
        "        else:\n",
        "            index = index + 1\n",
        "    return found"
      ],
      "metadata": {
        "id": "qCBuu9LJ103V"
      },
      "execution_count": 20,
      "outputs": []
    },
    {
      "cell_type": "code",
      "source": [
        "list1 = ['y','u','i','w','o','a','q','u','j','p']\n",
        "print(LinearSearch(list1, 'a'))"
      ],
      "metadata": {
        "colab": {
          "base_uri": "https://localhost:8080/"
        },
        "id": "De8JGbAL2Jal",
        "outputId": "5242be9d-6883-45b2-fd1c-530ec4a33ee5"
      },
      "execution_count": 22,
      "outputs": [
        {
          "output_type": "stream",
          "name": "stdout",
          "text": [
            "True\n"
          ]
        }
      ]
    },
    {
      "cell_type": "markdown",
      "source": [
        "# Binary Search"
      ],
      "metadata": {
        "id": "7AiPvJi4uWld"
      }
    },
    {
      "cell_type": "code",
      "source": [
        "def BubbleSort(list):\n",
        "    n = len(list)\n",
        "    # Traverse through all array elements\n",
        "    for i in range(n-1):\n",
        "        # Last i elements are already in place\n",
        "        for j in range(0, n-i-1):\n",
        "            # traverse the array from 0 to n-i-1\n",
        "            # Swap if the element found is greater\n",
        "            # than the next element\n",
        "            if list[j] > list[j+1] :\n",
        "                list[j], list[j+1] = list[j+1], list[j]\n",
        "    return list"
      ],
      "metadata": {
        "id": "93umVL7Y4PIj"
      },
      "execution_count": 71,
      "outputs": []
    },
    {
      "cell_type": "code",
      "source": [
        "list = ['y','u','i','w','o','a','q','u','j','p']\n",
        "sorted_list = BubbleSort(list)  # Asumsikan BubbleSort sudah didefinisikan\n",
        "print(BinarySearch(sorted_list, 'a'))"
      ],
      "metadata": {
        "colab": {
          "base_uri": "https://localhost:8080/"
        },
        "id": "We6RTiKv4p1k",
        "outputId": "9ce8b346-924b-4012-ba38-af4c0a4c0dca"
      },
      "execution_count": 33,
      "outputs": [
        {
          "output_type": "stream",
          "name": "stdout",
          "text": [
            "True\n"
          ]
        }
      ]
    },
    {
      "cell_type": "markdown",
      "source": [
        "# Interpolation Search"
      ],
      "metadata": {
        "id": "ZcqogTAJuZ1Y"
      }
    },
    {
      "cell_type": "code",
      "source": [
        "def IntPolSearch(arr, x):\n",
        "    idxe = 0\n",
        "    idxn = len(arr) - 1\n",
        "    found = False\n",
        "\n",
        "    while idxe <= idxn and x >= arr[idxe] and x <= arr[idxn]:\n",
        "        if arr[idxe] == arr[idxn]:\n",
        "            mid = idxe\n",
        "        else:\n",
        "            mid = idxe + (idxn - idxe) // 2\n",
        "        if arr[mid] == x:\n",
        "            found = True\n",
        "            return found\n",
        "        if arr[mid] < x:\n",
        "            idxe = mid + 1\n",
        "        else:\n",
        "            idxn = mid - 1\n",
        "\n",
        "    return found"
      ],
      "metadata": {
        "id": "ReYqv_N5ULVX"
      },
      "execution_count": 88,
      "outputs": []
    },
    {
      "cell_type": "code",
      "source": [
        "list_latihan = [\"y\", \"u\", \"i\", \"w\", \"o\", \"a\", \"q\", \"u\", \"j\", \"p\"]\n",
        "list_latihan.sort()\n",
        "print(IntPolSearch(list_latihan, \"u\"))"
      ],
      "metadata": {
        "colab": {
          "base_uri": "https://localhost:8080/"
        },
        "id": "NtB3SyrD6VuM",
        "outputId": "218e295c-ddf2-427b-a88d-a56b197c0cd0"
      },
      "execution_count": 89,
      "outputs": [
        {
          "output_type": "stream",
          "name": "stdout",
          "text": [
            "True\n"
          ]
        }
      ]
    }
  ]
}